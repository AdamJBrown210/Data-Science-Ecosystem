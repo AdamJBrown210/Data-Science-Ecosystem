{
 "cells": [
  {
   "cell_type": "markdown",
   "id": "f01602cb-987c-4ef3-bba8-797e1aca93b9",
   "metadata": {},
   "source": [
    "# H1: Data Science Tools and Ecosystem"
   ]
  },
  {
   "cell_type": "markdown",
   "id": "c461590a-c8fa-47be-8e00-0d2b09e59eba",
   "metadata": {},
   "source": [
    "**In this notebook, Data Science Tools and Ecosystems are summarized**"
   ]
  },
  {
   "cell_type": "markdown",
   "id": "7e872002-5eef-40bb-90b9-f815948c3718",
   "metadata": {},
   "source": [
    "*Some of the popular languages that Data Scientists use are:*\n",
    "1. Java\n",
    "2. Scala\n",
    "3. C++\n",
    "4. Julia\n",
    "5. Jupyter"
   ]
  },
  {
   "cell_type": "markdown",
   "id": "a984d103-0882-42fc-8eba-cadc6577218f",
   "metadata": {},
   "source": [
    "*Some of the commonly used libraries used by Data Scientists include:*\n",
    "\n",
    "1. Pandas\n",
    "2. NumPy\n",
    "3. Keras\n",
    "4. Matplotlib\n",
    "5. Apache Spark"
   ]
  },
  {
   "cell_type": "markdown",
   "id": "da61b4e4-28d0-446f-98ef-491b6f9d188c",
   "metadata": {},
   "source": [
    "| Data Science Tools |\n",
    "|--------------------|\n",
    "| Data Management    |\n",
    "| Model Deployment   |\n",
    "| Data Visualization |"
   ]
  },
  {
   "cell_type": "markdown",
   "id": "580d7050-125d-49e7-bcc3-000d6f901e47",
   "metadata": {},
   "source": [
    "### Below are a few examples of evaluating arithmetic expressions in Python"
   ]
  },
  {
   "cell_type": "markdown",
   "id": "c889aa4c-5f5b-4cad-be9f-358cdf99ff07",
   "metadata": {},
   "source": [
    "*This is a simple arithmetic expression to multiply then add integers*"
   ]
  },
  {
   "cell_type": "code",
   "execution_count": 4,
   "id": "74f895a2-65a9-4fbc-be8f-a65ff85eb100",
   "metadata": {},
   "outputs": [
    {
     "data": {
      "text/plain": [
       "17"
      ]
     },
     "execution_count": 4,
     "metadata": {},
     "output_type": "execute_result"
    }
   ],
   "source": [
    "(3*4)+5"
   ]
  },
  {
   "cell_type": "markdown",
   "id": "01e9754f-011f-48db-b0a1-3e0b099353c6",
   "metadata": {},
   "source": [
    "*This will convert 200 minutes to hours by diving by 60*"
   ]
  },
  {
   "cell_type": "code",
   "execution_count": 8,
   "id": "a8b7a920-c7ac-43c6-8093-c62a174596ca",
   "metadata": {},
   "outputs": [
    {
     "data": {
      "text/plain": [
       "3.3333333333333335"
      ]
     },
     "execution_count": 8,
     "metadata": {},
     "output_type": "execute_result"
    }
   ],
   "source": [
    "200/60"
   ]
  },
  {
   "cell_type": "markdown",
   "id": "c6b8ca60-f5ba-452d-b2d8-277f041ddf97",
   "metadata": {},
   "source": [
    "**Objectives**\n",
    "+ List popular languages in Data Science\n",
    "+ Multiply and add integers\n",
    "+ List commonly used libraries in Data Sciecne\n",
    "+ List Data Science Tools"
   ]
  },
  {
   "cell_type": "markdown",
   "id": "3f3571e7-3b32-4813-bd92-d4dcc65e01ca",
   "metadata": {},
   "source": [
    "## Author\n",
    "Adam"
   ]
  },
  {
   "cell_type": "code",
   "execution_count": null,
   "id": "6e027a70-29e6-400c-91b4-bd8db17e6e10",
   "metadata": {},
   "outputs": [],
   "source": []
  }
 ],
 "metadata": {
  "kernelspec": {
   "display_name": "Python 3 (ipykernel)",
   "language": "python",
   "name": "python3"
  },
  "language_info": {
   "codemirror_mode": {
    "name": "ipython",
    "version": 3
   },
   "file_extension": ".py",
   "mimetype": "text/x-python",
   "name": "python",
   "nbconvert_exporter": "python",
   "pygments_lexer": "ipython3",
   "version": "3.11.7"
  }
 },
 "nbformat": 4,
 "nbformat_minor": 5
}
